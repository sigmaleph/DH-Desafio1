{
 "cells": [
  {
   "cell_type": "code",
   "execution_count": 1,
   "metadata": {},
   "outputs": [],
   "source": [
    "from IPython.core.interactiveshell import InteractiveShell\n",
    "InteractiveShell.ast_node_interactivity = \"all\"\n",
    "import pandas as pd\n",
    "import numpy as np\n",
    "import matplotlib.pyplot as plt\n",
    "%matplotlib inline\n",
    "import seaborn as sns\n",
    "sns.set(style = \"whitegrid\")"
   ]
  },
  {
   "cell_type": "code",
   "execution_count": 2,
   "metadata": {},
   "outputs": [],
   "source": [
    "# Read data\n",
    "# Lectura del dataset usando como index la primera columna\n",
    "df = pd.read_csv('properatti_geo.csv', index_col='id')\n",
    "df.drop(['Unnamed: 0', 'piso', 'habs', 'expensas', 'descripcion', 'ambientes'], axis=1, inplace=True)"
   ]
  },
  {
   "cell_type": "code",
   "execution_count": 3,
   "metadata": {},
   "outputs": [
    {
     "data": {
      "text/html": [
       "<div>\n",
       "<style scoped>\n",
       "    .dataframe tbody tr th:only-of-type {\n",
       "        vertical-align: middle;\n",
       "    }\n",
       "\n",
       "    .dataframe tbody tr th {\n",
       "        vertical-align: top;\n",
       "    }\n",
       "\n",
       "    .dataframe thead th {\n",
       "        text-align: right;\n",
       "    }\n",
       "</style>\n",
       "<table border=\"1\" class=\"dataframe\">\n",
       "  <thead>\n",
       "    <tr style=\"text-align: right;\">\n",
       "      <th></th>\n",
       "      <th>barrio_real</th>\n",
       "      <th>total</th>\n",
       "      <th>cubierta</th>\n",
       "      <th>precio</th>\n",
       "      <th>habitaciones_final</th>\n",
       "      <th>pileta</th>\n",
       "      <th>seguridad</th>\n",
       "      <th>parrilla</th>\n",
       "      <th>balcon</th>\n",
       "      <th>cochera</th>\n",
       "      <th>nuevo</th>\n",
       "      <th>geometry</th>\n",
       "      <th>dist_comisarias</th>\n",
       "      <th>dist_subte</th>\n",
       "      <th>dist_trenes</th>\n",
       "      <th>dist_metrobus</th>\n",
       "    </tr>\n",
       "    <tr>\n",
       "      <th>id</th>\n",
       "      <th></th>\n",
       "      <th></th>\n",
       "      <th></th>\n",
       "      <th></th>\n",
       "      <th></th>\n",
       "      <th></th>\n",
       "      <th></th>\n",
       "      <th></th>\n",
       "      <th></th>\n",
       "      <th></th>\n",
       "      <th></th>\n",
       "      <th></th>\n",
       "      <th></th>\n",
       "      <th></th>\n",
       "      <th></th>\n",
       "      <th></th>\n",
       "    </tr>\n",
       "  </thead>\n",
       "  <tbody>\n",
       "    <tr>\n",
       "      <th>2</th>\n",
       "      <td>LINIERS</td>\n",
       "      <td>55.0</td>\n",
       "      <td>55.0</td>\n",
       "      <td>1309.090909</td>\n",
       "      <td>2.0</td>\n",
       "      <td>0</td>\n",
       "      <td>0</td>\n",
       "      <td>0</td>\n",
       "      <td>0</td>\n",
       "      <td>0</td>\n",
       "      <td>0</td>\n",
       "      <td>POINT (-58.5229825 -34.6522615)</td>\n",
       "      <td>2133.629728</td>\n",
       "      <td>5444.155315</td>\n",
       "      <td>1512.704661</td>\n",
       "      <td>1578.836380</td>\n",
       "    </tr>\n",
       "    <tr>\n",
       "      <th>7</th>\n",
       "      <td>BELGRANO</td>\n",
       "      <td>45.0</td>\n",
       "      <td>40.0</td>\n",
       "      <td>3066.666667</td>\n",
       "      <td>1.0</td>\n",
       "      <td>1</td>\n",
       "      <td>0</td>\n",
       "      <td>0</td>\n",
       "      <td>0</td>\n",
       "      <td>0</td>\n",
       "      <td>0</td>\n",
       "      <td>POINT (-58.443362 -34.5598729)</td>\n",
       "      <td>564.095028</td>\n",
       "      <td>1068.595967</td>\n",
       "      <td>585.038122</td>\n",
       "      <td>1019.907337</td>\n",
       "    </tr>\n",
       "    <tr>\n",
       "      <th>8</th>\n",
       "      <td>BELGRANO</td>\n",
       "      <td>65.0</td>\n",
       "      <td>60.0</td>\n",
       "      <td>3000.000000</td>\n",
       "      <td>2.0</td>\n",
       "      <td>1</td>\n",
       "      <td>0</td>\n",
       "      <td>0</td>\n",
       "      <td>0</td>\n",
       "      <td>0</td>\n",
       "      <td>0</td>\n",
       "      <td>POINT (-58.443362 -34.5598729)</td>\n",
       "      <td>564.095028</td>\n",
       "      <td>1068.595967</td>\n",
       "      <td>585.038122</td>\n",
       "      <td>1019.907337</td>\n",
       "    </tr>\n",
       "    <tr>\n",
       "      <th>19</th>\n",
       "      <td>PALERMO</td>\n",
       "      <td>104.0</td>\n",
       "      <td>96.0</td>\n",
       "      <td>3365.384615</td>\n",
       "      <td>3.0</td>\n",
       "      <td>0</td>\n",
       "      <td>0</td>\n",
       "      <td>0</td>\n",
       "      <td>1</td>\n",
       "      <td>0</td>\n",
       "      <td>0</td>\n",
       "      <td>POINT (-58.4058744847 -34.580503566)</td>\n",
       "      <td>719.300376</td>\n",
       "      <td>991.604946</td>\n",
       "      <td>794.459912</td>\n",
       "      <td>1500.489635</td>\n",
       "    </tr>\n",
       "    <tr>\n",
       "      <th>21</th>\n",
       "      <td>RECOLETA</td>\n",
       "      <td>118.0</td>\n",
       "      <td>73.0</td>\n",
       "      <td>2292.372881</td>\n",
       "      <td>4.0</td>\n",
       "      <td>0</td>\n",
       "      <td>0</td>\n",
       "      <td>0</td>\n",
       "      <td>0</td>\n",
       "      <td>0</td>\n",
       "      <td>0</td>\n",
       "      <td>POINT (-58.4116653 -34.590926)</td>\n",
       "      <td>527.672388</td>\n",
       "      <td>300.233682</td>\n",
       "      <td>1938.001717</td>\n",
       "      <td>1494.307836</td>\n",
       "    </tr>\n",
       "  </tbody>\n",
       "</table>\n",
       "</div>"
      ],
      "text/plain": [
       "   barrio_real  total  cubierta       precio  habitaciones_final  pileta  \\\n",
       "id                                                                         \n",
       "2      LINIERS   55.0      55.0  1309.090909                 2.0       0   \n",
       "7     BELGRANO   45.0      40.0  3066.666667                 1.0       1   \n",
       "8     BELGRANO   65.0      60.0  3000.000000                 2.0       1   \n",
       "19     PALERMO  104.0      96.0  3365.384615                 3.0       0   \n",
       "21    RECOLETA  118.0      73.0  2292.372881                 4.0       0   \n",
       "\n",
       "    seguridad  parrilla  balcon  cochera  nuevo  \\\n",
       "id                                                \n",
       "2           0         0       0        0      0   \n",
       "7           0         0       0        0      0   \n",
       "8           0         0       0        0      0   \n",
       "19          0         0       1        0      0   \n",
       "21          0         0       0        0      0   \n",
       "\n",
       "                                geometry  dist_comisarias   dist_subte  \\\n",
       "id                                                                       \n",
       "2        POINT (-58.5229825 -34.6522615)      2133.629728  5444.155315   \n",
       "7         POINT (-58.443362 -34.5598729)       564.095028  1068.595967   \n",
       "8         POINT (-58.443362 -34.5598729)       564.095028  1068.595967   \n",
       "19  POINT (-58.4058744847 -34.580503566)       719.300376   991.604946   \n",
       "21        POINT (-58.4116653 -34.590926)       527.672388   300.233682   \n",
       "\n",
       "    dist_trenes  dist_metrobus  \n",
       "id                              \n",
       "2   1512.704661    1578.836380  \n",
       "7    585.038122    1019.907337  \n",
       "8    585.038122    1019.907337  \n",
       "19   794.459912    1500.489635  \n",
       "21  1938.001717    1494.307836  "
      ]
     },
     "execution_count": 3,
     "metadata": {},
     "output_type": "execute_result"
    }
   ],
   "source": [
    "df.head()"
   ]
  },
  {
   "cell_type": "code",
   "execution_count": 4,
   "metadata": {},
   "outputs": [
    {
     "name": "stdout",
     "output_type": "stream",
     "text": [
      "<class 'pandas.core.frame.DataFrame'>\n",
      "Int64Index: 15924 entries, 2 to 121217\n",
      "Data columns (total 16 columns):\n",
      "barrio_real           15924 non-null object\n",
      "total                 15924 non-null float64\n",
      "cubierta              15467 non-null float64\n",
      "precio                15924 non-null float64\n",
      "habitaciones_final    14471 non-null float64\n",
      "pileta                15924 non-null int64\n",
      "seguridad             15924 non-null int64\n",
      "parrilla              15924 non-null int64\n",
      "balcon                15924 non-null int64\n",
      "cochera               15924 non-null int64\n",
      "nuevo                 15924 non-null int64\n",
      "geometry              15924 non-null object\n",
      "dist_comisarias       15924 non-null float64\n",
      "dist_subte            15924 non-null float64\n",
      "dist_trenes           15924 non-null float64\n",
      "dist_metrobus         15924 non-null float64\n",
      "dtypes: float64(8), int64(6), object(2)\n",
      "memory usage: 2.1+ MB\n"
     ]
    }
   ],
   "source": [
    "df.info()"
   ]
  },
  {
   "cell_type": "markdown",
   "metadata": {},
   "source": [
    "## CONSULTAS"
   ]
  },
  {
   "cell_type": "markdown",
   "metadata": {},
   "source": [
    "Las variables pileta, seguridad, parrilla, balcon, cochera, nuevo; tienen influencia en el precio?"
   ]
  },
  {
   "cell_type": "code",
   "execution_count": 22,
   "metadata": {},
   "outputs": [
    {
     "name": "stderr",
     "output_type": "stream",
     "text": [
      "/home/s/anaconda3/envs/geopandas/lib/python3.6/site-packages/scipy/stats/stats.py:1713: FutureWarning: Using a non-tuple sequence for multidimensional indexing is deprecated; use `arr[tuple(seq)]` instead of `arr[seq]`. In the future this will be interpreted as an array index, `arr[np.array(seq)]`, which will result either in an error or a different result.\n",
      "  return np.add.reduce(sorted[indexer] * weights, axis=axis) / sumval\n"
     ]
    },
    {
     "data": {
      "text/plain": [
       "<matplotlib.axes._subplots.AxesSubplot at 0x7f73ebfc1fd0>"
      ]
     },
     "execution_count": 22,
     "metadata": {},
     "output_type": "execute_result"
    },
    {
     "data": {
      "image/png": "[encoded data removed]",
      "text/plain": [
       "<Figure size 432x288 with 1 Axes>"
      ]
     },
     "metadata": {},
     "output_type": "display_data"
    }
   ],
   "source": [
    "sns.kdeplot(df['precio'])"
   ]
  },
  {
   "cell_type": "code",
   "execution_count": 36,
   "metadata": {},
   "outputs": [
    {
     "data": {
      "text/plain": [
       "Ttest_indResult(statistic=-46.447349299908026, pvalue=0.0)"
      ]
     },
     "execution_count": 36,
     "metadata": {},
     "output_type": "execute_result"
    }
   ],
   "source": [
    "import scipy.stats as sps\n"
   ]
  },
  {
   "cell_type": "code",
   "execution_count": 50,
   "metadata": {},
   "outputs": [
    {
     "data": {
      "text/plain": [
       "Ttest_indResult(statistic=36.79656284357395, pvalue=9.246333778768748e-260)"
      ]
     },
     "execution_count": 50,
     "metadata": {},
     "output_type": "execute_result"
    }
   ],
   "source": [
    "sps.ttest_ind(df.loc[df['pileta']==1,'precio'],df.loc[df['pileta']==0,'precio'], equal_var=False)"
   ]
  },
  {
   "cell_type": "code",
   "execution_count": 51,
   "metadata": {},
   "outputs": [
    {
     "data": {
      "text/plain": [
       "Ttest_indResult(statistic=27.208287884394593, pvalue=3.4047681971870283e-149)"
      ]
     },
     "execution_count": 51,
     "metadata": {},
     "output_type": "execute_result"
    }
   ],
   "source": [
    "sps.ttest_ind(df.loc[df['seguridad']==1,'precio'],df.loc[df['seguridad']==0,'precio'], equal_var=False)"
   ]
  },
  {
   "cell_type": "code",
   "execution_count": 52,
   "metadata": {},
   "outputs": [
    {
     "data": {
      "text/plain": [
       "Ttest_indResult(statistic=11.749109750308518, pvalue=1.4470546066705106e-31)"
      ]
     },
     "execution_count": 52,
     "metadata": {},
     "output_type": "execute_result"
    }
   ],
   "source": [
    "sps.ttest_ind(df.loc[df['parrilla']==1,'precio'],df.loc[df['parrilla']==0,'precio'], equal_var=False)"
   ]
  },
  {
   "cell_type": "code",
   "execution_count": 53,
   "metadata": {},
   "outputs": [
    {
     "data": {
      "text/plain": [
       "Ttest_indResult(statistic=3.5791449125845687, pvalue=0.0003458232634552294)"
      ]
     },
     "execution_count": 53,
     "metadata": {},
     "output_type": "execute_result"
    }
   ],
   "source": [
    "sps.ttest_ind(df.loc[df['balcon']==1,'precio'],df.loc[df['balcon']==0,'precio'], equal_var=False)"
   ]
  },
  {
   "cell_type": "code",
   "execution_count": 54,
   "metadata": {},
   "outputs": [
    {
     "data": {
      "text/plain": [
       "Ttest_indResult(statistic=31.433596004115735, pvalue=3.4514066692180394e-207)"
      ]
     },
     "execution_count": 54,
     "metadata": {},
     "output_type": "execute_result"
    }
   ],
   "source": [
    "sps.ttest_ind(df.loc[df['cochera']==1,'precio'],df.loc[df['cochera']==0,'precio'], equal_var=False)"
   ]
  },
  {
   "cell_type": "code",
   "execution_count": 55,
   "metadata": {},
   "outputs": [
    {
     "data": {
      "text/plain": [
       "Ttest_indResult(statistic=-1.3914186328195828, pvalue=0.16420584511615155)"
      ]
     },
     "execution_count": 55,
     "metadata": {},
     "output_type": "execute_result"
    }
   ],
   "source": [
    "sps.ttest_ind(df.loc[df['nuevo']==1,'precio'],df.loc[df['nuevo']==0,'precio'], equal_var=False)"
   ]
  },
  {
   "cell_type": "markdown",
   "metadata": {},
   "source": [
    "Conclusión: ``nuevo`` no es estadísticamente significativo (y apunta en la dirección incorrecta), los demás sí"
   ]
  },
  {
   "cell_type": "markdown",
   "metadata": {},
   "source": [
    "Veamos ahora sobre las columnas geográficas (dist_comisarias, dist_subte, dist_trenes, y dist_metrobus)"
   ]
  },
  {
   "cell_type": "code",
   "execution_count": 56,
   "metadata": {},
   "outputs": [
    {
     "data": {
      "text/plain": [
       "LinregressResult(slope=-0.017866818940336742, intercept=701.2317283656018, rvalue=-0.045461481807582194, pvalue=9.505948060144632e-09, stderr=0.003111398131272282)"
      ]
     },
     "execution_count": 56,
     "metadata": {},
     "output_type": "execute_result"
    }
   ],
   "source": [
    "sps.linregress(df['precio'], df['dist_comisarias'])"
   ]
  },
  {
   "cell_type": "code",
   "execution_count": 57,
   "metadata": {},
   "outputs": [
    {
     "data": {
      "text/plain": [
       "LinregressResult(slope=-0.10460962966036355, intercept=1075.762923524178, rvalue=-0.10655853862972875, pvalue=1.9426498577951754e-41, stderr=0.007735793126100746)"
      ]
     },
     "execution_count": 57,
     "metadata": {},
     "output_type": "execute_result"
    }
   ],
   "source": [
    "sps.linregress(df['precio'], df['dist_subte'])"
   ]
  },
  {
   "cell_type": "code",
   "execution_count": 58,
   "metadata": {},
   "outputs": [
    {
     "data": {
      "text/plain": [
       "LinregressResult(slope=-0.07696515145264951, intercept=1156.3844600350244, rvalue=-0.13667816987360043, pvalue=2.9184439910384587e-67, stderr=0.004420804245234533)"
      ]
     },
     "execution_count": 58,
     "metadata": {},
     "output_type": "execute_result"
    }
   ],
   "source": [
    "sps.linregress(df['precio'], df['dist_trenes'])"
   ]
  },
  {
   "cell_type": "code",
   "execution_count": 59,
   "metadata": {},
   "outputs": [
    {
     "data": {
      "text/plain": [
       "LinregressResult(slope=-0.061160887172394464, intercept=1236.6399291667146, rvalue=-0.07382673140247059, pvalue=1.07664381853407e-20, stderr=0.0065474856048040415)"
      ]
     },
     "execution_count": 59,
     "metadata": {},
     "output_type": "execute_result"
    }
   ],
   "source": [
    "sps.linregress(df['precio'], df['dist_metrobus'])"
   ]
  },
  {
   "cell_type": "markdown",
   "metadata": {},
   "source": [
    "Todas las pendientes dan negativas y los p-valores son chicos"
   ]
  },
  {
   "cell_type": "code",
   "execution_count": null,
   "metadata": {},
   "outputs": [],
   "source": []
  }
 ],
 "metadata": {
  "kernelspec": {
   "display_name": "Python 3",
   "language": "python",
   "name": "python3"
  },
  "language_info": {
   "codemirror_mode": {
    "name": "ipython",
    "version": 3
   },
   "file_extension": ".py",
   "mimetype": "text/x-python",
   "name": "python",
   "nbconvert_exporter": "python",
   "pygments_lexer": "ipython3",
   "version": "3.6.6"
  }
 },
 "nbformat": 4,
 "nbformat_minor": 2
}
